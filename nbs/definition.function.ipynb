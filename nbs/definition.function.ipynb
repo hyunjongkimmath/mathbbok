{
 "cells": [
  {
   "cell_type": "code",
   "execution_count": null,
   "metadata": {},
   "outputs": [],
   "source": [
    "# default_exp definition.function"
   ]
  },
  {
   "cell_type": "markdown",
   "metadata": {},
   "source": [
    "# definition.function\n",
    "> Something about limits"
   ]
  },
  {
   "cell_type": "code",
   "execution_count": null,
   "metadata": {},
   "outputs": [],
   "source": [
    "#hide\n",
    "from mathbook.utility.markdown import *\n",
    "from mathbook.configs import *\n",
    "# uncomment for editing.\n",
    "# DESTINATION = 'notebook'\n",
    "# ORIGIN = 'notebook'"
   ]
  },
  {
   "cell_type": "markdown",
   "metadata": {},
   "source": [
    "## Limit of a function at a finite value"
   ]
  },
  {
   "cell_type": "code",
   "execution_count": null,
   "metadata": {},
   "outputs": [
    {
     "name": "stdout",
     "output_type": "stream",
     "text": [
      "[(477, 493)]\n"
     ]
    },
    {
     "data": {
      "text/markdown": [
       "A **function** is an assignment of inputs to outputs so that each input has exactly one output associated to it.\n",
       "\n",
       "Specifying a function $f: X \\to Y$ is to specify the following:\n",
       "1. A set $X$, called the **domain** of $f$.\n",
       "2. A set $Y$, called the **codomain** of $f$. (Some authors call this the **range**, but other authors make a distinction between codomain and range.)\n",
       "3. For each $x \\in X$[^1], a single element of $Y$, which we write as $f(x)$.\n",
       "\n",
       "In particular, given any [subset](https://hyunjongkimmath.github.io/mathbook/subset.html) $S \\subset X$, there is a function $f|_S$ called the **restriction of $f$ to $S$** given by $f|_S(s) = f(s)$ for all $s \\in S$. It therefore makes sense to say that **$f$ is defined on $S$**.\n",
       "\n",
       "[^1]:https://hyunjongkimmath.github.io/mathbook/notation.basic.html#$\\in$"
      ],
      "text/plain": [
       "<IPython.core.display.Markdown object>"
      ]
     },
     "metadata": {},
     "output_type": "display_data"
    }
   ],
   "source": [
    "#export\n",
    "if __name__ == '__main__': \n",
    "    embed_markdown_file('definition.function.md',\n",
    "                        destination=DESTINATION, origin=ORIGIN)"
   ]
  }
 ],
 "metadata": {
  "kernelspec": {
   "display_name": "SageMath 9.3",
   "language": "sage",
   "name": "sagemath"
  }
 },
 "nbformat": 4,
 "nbformat_minor": 4
}
