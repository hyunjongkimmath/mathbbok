{
 "cells": [
  {
   "cell_type": "code",
   "execution_count": null,
   "metadata": {},
   "outputs": [],
   "source": [
    "# default_exp definition.function_continuous_at_a_point"
   ]
  },
  {
   "cell_type": "markdown",
   "metadata": {},
   "source": [
    "# definition.function_continuous_at_a_point"
   ]
  },
  {
   "cell_type": "code",
   "execution_count": null,
   "metadata": {},
   "outputs": [],
   "source": [
    "#hide\n",
    "from mathbook.utility.markdown import *\n",
    "from mathbook.configs import *\n",
    "# uncomment for editing.\n",
    "# DESTINATION = 'notebook'\n",
    "# ORIGIN = 'notebook'"
   ]
  },
  {
   "cell_type": "markdown",
   "metadata": {},
   "source": [
    "## Real valued function continuous at a point"
   ]
  },
  {
   "cell_type": "code",
   "execution_count": null,
   "metadata": {},
   "outputs": [
    {
     "name": "stdout",
     "output_type": "stream",
     "text": [
      "[(31, 86), (93, 124), (148, 204), (326, 359), (376, 453)]\n"
     ]
    },
    {
     "data": {
      "text/markdown": [
       "Let $f: I \\to \\mathbb{R}$ be a [real valued function](definition.real_valued_function.ipynb) on an [interval](definition.interval.ipynb).\n",
       "\n",
       "Assuming that $f$ is [defined near](definition.function_defined_near_a_point.ipynb) $a \\in \\mathbb{R}$, we say that $f(x)$ is **continuous at $x=a$** or **continuous at $a$** if additionally,\n",
       "1. $f(x)$ is [defined at](definition.function.ipynb) $x = a$.\n",
       "2. The [limit](definition.limit_of_a_function.ipynb#Limit-of-a-function-at-a-finite-value) $\\lim\\limits_{x \\to a} f(x)$ exists, and\n",
       "3. $f(a) = \\lim\\limits_{x \\to a} f(x)$."
      ],
      "text/plain": [
       "<IPython.core.display.Markdown object>"
      ]
     },
     "metadata": {},
     "output_type": "display_data"
    }
   ],
   "source": [
    "#export\n",
    "if __name__ == '__main__': \n",
    "    embed_markdown_file('definition.real_valued_function_continuous_at_a_point.md',\n",
    "                        destination=DESTINATION, origin=NOTEBOOK)"
   ]
  }
 ],
 "metadata": {
  "kernelspec": {
   "display_name": "SageMath 9.3",
   "language": "sage",
   "name": "sagemath"
  }
 },
 "nbformat": 4,
 "nbformat_minor": 4
}
