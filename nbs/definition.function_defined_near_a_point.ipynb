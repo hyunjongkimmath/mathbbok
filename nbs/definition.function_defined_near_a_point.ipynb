{
 "cells": [
  {
   "cell_type": "code",
   "execution_count": null,
   "metadata": {},
   "outputs": [],
   "source": [
    "# default_exp definition.function_continuous_at_a_point"
   ]
  },
  {
   "cell_type": "markdown",
   "metadata": {},
   "source": [
    "# definition.function_defined_near_a_point"
   ]
  },
  {
   "cell_type": "code",
   "execution_count": null,
   "metadata": {},
   "outputs": [],
   "source": [
    "#hide\n",
    "from mathbook.utility.markdown import *\n",
    "from mathbook.configs import *\n",
    "# uncomment for editing.\n",
    "# DESTINATION = 'notebook'\n",
    "# ORIGIN = 'notebook'"
   ]
  },
  {
   "cell_type": "markdown",
   "metadata": {},
   "source": [
    "## Function defined near a point"
   ]
  },
  {
   "cell_type": "code",
   "execution_count": null,
   "metadata": {},
   "outputs": [
    {
     "name": "stdout",
     "output_type": "stream",
     "text": [
      "[(31, 86), (94, 121), (140, 179), (267, 298), (340, 373), (393, 442), (454, 483)]\n"
     ]
    },
    {
     "data": {
      "text/markdown": [
       "Let $f: D \\to \\mathbb{R}$ be a [real valued function](https://hyunjongkimmath.github.io/mathbook/definition.real_valued_function.html) from a [subset](https://hyunjongkimmath.github.io/mathbook/definition.subset.html) $D$ of the set of [real numbers](https://hyunjongkimmath.github.io/mathbook/definition.real_numbers.html) $\\mathbb{R}$.\n",
       "\n",
       "We say that $f$ is **defined near $a \\in \\mathbb{R}$** if there is some [interval](https://hyunjongkimmath.github.io/mathbook/definition.interval.html) $I$ such that\n",
       "1. $a \\in I$ and\n",
       "2. $f$ is [defined on](https://hyunjongkimmath.github.io/mathbook/definition.function.html) $I \\setminus \\{a\\}$[^1],[^2], i.e. the [domain](https://hyunjongkimmath.github.io/mathbook/definition.function.html) $D$ of $f$ [contains](https://hyunjongkimmath.github.io/mathbook/definition.subset.html) $I \\setminus \\{a\\}$.\n",
       "\n",
       "[^1]:https://hyunjongkimmath.github.io/mathbook/notation.basic.html#$\\setminus$\n",
       "[^2]:https://hyunjongkimmath.github.io/mathbook/notation.basic.html#$\\{a\\}$"
      ],
      "text/plain": [
       "<IPython.core.display.Markdown object>"
      ]
     },
     "metadata": {},
     "output_type": "display_data"
    }
   ],
   "source": [
    "#export\n",
    "if __name__ == '__main__': \n",
    "    embed_markdown_file('definition.function_defined_near_a_point.md',\n",
    "                        destination=DESTINATION, origin=ORIGIN)"
   ]
  }
 ],
 "metadata": {
  "kernelspec": {
   "display_name": "SageMath 9.3",
   "language": "sage",
   "name": "sagemath"
  }
 },
 "nbformat": 4,
 "nbformat_minor": 4
}
