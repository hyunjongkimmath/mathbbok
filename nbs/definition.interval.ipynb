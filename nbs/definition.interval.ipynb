{
 "cells": [
  {
   "cell_type": "code",
   "execution_count": null,
   "metadata": {},
   "outputs": [],
   "source": [
    "# default_exp definition.interval"
   ]
  },
  {
   "cell_type": "markdown",
   "metadata": {},
   "source": [
    "# definition.interval"
   ]
  },
  {
   "cell_type": "code",
   "execution_count": null,
   "metadata": {},
   "outputs": [],
   "source": [
    "#hide\n",
    "from mathbook.utility.markdown import *\n",
    "from mathbook.configs import *\n",
    "# uncomment for editing.\n",
    "# DESTINATION = 'notebook'\n",
    "# ORIGIN = 'notebook'"
   ]
  },
  {
   "cell_type": "markdown",
   "metadata": {},
   "source": [
    "## Interval"
   ]
  },
  {
   "cell_type": "code",
   "execution_count": null,
   "metadata": {},
   "outputs": [
    {
     "name": "stdout",
     "output_type": "stream",
     "text": [
      "[(65, 92)]\n"
     ]
    },
    {
     "data": {
      "text/markdown": [
       "For real numbers $a,b$, an **interval** between $a$ and $b$ is a [subset](https://hyunjongkimmath.github.io/mathbook/definition.subset.html) of $\\mathbb{R}$[^1] containing all of the real numbers between $a$ and $b$. An interval is of one of the following forms, depending on which of the two endpoints (i.e., $a$ and $b$) it contains:\n",
       "\n",
       "1. The **open interval**, denoted $(a,b)$, is the set of real numbers containing all real numbers between $a$ and $b$, not including $a$ and $b$:\n",
       "$$\n",
       "\\begin{align}\n",
       "(a,b) := \\{x \\in \\mathbb{R}: a < x < b \\}\n",
       "\\end{align}\n",
       "$$\n",
       "2. The **closed interval**, denoted $[a,b]$, is the set of real numbers containing all real numbers between $a$ and $b$, including both $a$ and $b$:\n",
       "$$\n",
       "\\begin{align}\n",
       "[a,b] := \\{x \\in \\mathbb{R}: a \\leq x \\leq b \\}\n",
       "\\end{align}\n",
       "$$\n",
       "3. The **half open intervals**, denoted $(a,b]$ and $[a,b)$, are the sets of real numbers containing all real numbers between $a$ and $b$, including one of $a$ and $b$ and not the other:\n",
       "$$\n",
       "\\begin{align}\n",
       "(a,b] &:= \\{x \\in \\mathbb{R}: a < x \\leq b \\} \\\\\n",
       "[a,b) &:= \\{x \\in \\mathbb{R}: a \\leq x < b \\}\n",
       "\\end{align}\n",
       "$$\n",
       "\n",
       "[^1]:https://hyunjongkimmath.github.io/mathbook/notation.basic.html#$\\mathbb{R}$"
      ],
      "text/plain": [
       "<IPython.core.display.Markdown object>"
      ]
     },
     "metadata": {},
     "output_type": "display_data"
    }
   ],
   "source": [
    "#export\n",
    "if __name__ == '__main__': \n",
    "    embed_markdown_file('definition.interval.md',\n",
    "                        destination=DESTINATION, origin=ORIGIN)"
   ]
  }
 ],
 "metadata": {
  "kernelspec": {
   "display_name": "SageMath 9.3",
   "language": "sage",
   "name": "sagemath"
  }
 },
 "nbformat": 4,
 "nbformat_minor": 4
}
