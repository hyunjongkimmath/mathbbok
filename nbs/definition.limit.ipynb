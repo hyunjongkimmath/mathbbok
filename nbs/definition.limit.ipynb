{
 "cells": [
  {
   "cell_type": "code",
   "execution_count": null,
   "metadata": {},
   "outputs": [],
   "source": [
    "# default_exp definition.limit"
   ]
  },
  {
   "cell_type": "markdown",
   "metadata": {},
   "source": [
    "# definition.limit\n",
    "> Something about limits"
   ]
  },
  {
   "cell_type": "code",
   "execution_count": null,
   "metadata": {},
   "outputs": [],
   "source": [
    "#hide\n",
    "from mathbook.utility.markdown import *\n",
    "from mathbook.configs import *\n",
    "# uncomment for editing.\n",
    "# DESTINATION = 'notebook'\n",
    "# ORIGIN = 'notebook'"
   ]
  },
  {
   "cell_type": "markdown",
   "metadata": {},
   "source": [
    "## Limit of a function at a finite value"
   ]
  },
  {
   "cell_type": "code",
   "execution_count": null,
   "metadata": {},
   "outputs": [
    {
     "data": {
      "text/markdown": [
       "Let $f: D \\to \\mathbb{R}$ be a [real valued function](https://hyunjongkimmath.github.io/mathbook/definition.real_valued_function.html#Real-valued-function), and assume that $f$ is defined near $a$.\n",
       "\n",
       "We write $$\\lim\\limits_{x \\to a} f(x) = c$$ if for every $\\epsilon > 0$ there is a $\\delta > 0$ such that whenever $|x-a| < \\delta$ for $x \\in D$[^1] \n",
       "\n",
       "[^1]:https://hyunjongkimmath.github.io/mathbook/notation.basic.html#$\\in$"
      ],
      "text/plain": [
       "<IPython.core.display.Markdown object>"
      ]
     },
     "metadata": {},
     "output_type": "display_data"
    }
   ],
   "source": [
    "#export\n",
    "if __name__ == '__main__': \n",
    "    embed_markdown_file('definition.limit_of_a_function_at_a_finite_value.md',\n",
    "                        destination=DESTINATION, origin=ORIGIN)"
   ]
  }
 ],
 "metadata": {
  "kernelspec": {
   "display_name": "SageMath 9.3",
   "language": "sage",
   "name": "sagemath"
  }
 },
 "nbformat": 4,
 "nbformat_minor": 4
}
