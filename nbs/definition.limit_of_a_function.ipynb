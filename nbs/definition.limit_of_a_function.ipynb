{
 "cells": [
  {
   "cell_type": "code",
   "execution_count": null,
   "metadata": {},
   "outputs": [],
   "source": [
    "# default_exp definition.limit"
   ]
  },
  {
   "cell_type": "markdown",
   "metadata": {},
   "source": [
    "# definition.limit\n",
    "> Something about limits"
   ]
  },
  {
   "cell_type": "code",
   "execution_count": null,
   "metadata": {},
   "outputs": [],
   "source": [
    "#hide\n",
    "from mathbook.utility.markdown import *\n",
    "from mathbook.configs import *\n",
    "# uncomment for editing.\n",
    "# DESTINATION = 'notebook'\n",
    "# ORIGIN = 'notebook'"
   ]
  },
  {
   "cell_type": "markdown",
   "metadata": {},
   "source": [
    "## Limit of a function at a finite value"
   ]
  },
  {
   "cell_type": "code",
   "execution_count": null,
   "metadata": {},
   "outputs": [
    {
     "data": {
      "text/markdown": [
       "Let $f: D \\to \\mathbb{R}$ be a [real valued function](definition.real_valued_function.ipynb#Real-valued-function), and assume that $f$ is [defined near](definition.function_defined_near_a_point.ipynb#Function-defined-near-a-point) $a$.\n",
       "\n",
       "We write $$\\lim\\limits_{x \\to a} f(x) = c$$ if for every $\\epsilon > 0$ there is a $\\delta > 0$ such that whenever $|x-a| < \\delta$ for $x \\in D$[^1] \n",
       "\n",
       "[^1]:notation.basic.ipynb#$\\in$"
      ],
      "text/plain": [
       "<IPython.core.display.Markdown object>"
      ]
     },
     "metadata": {},
     "output_type": "display_data"
    }
   ],
   "source": [
    "#export\n",
    "if __name__ == '__main__': \n",
    "    embed_markdown_file('definition.limit_of_a_function_at_a_finite_value.md',\n",
    "                        destination='notebook', origin='notebook')"
   ]
  },
  {
   "cell_type": "markdown",
   "metadata": {},
   "source": [
    "## Limit of a function "
   ]
  },
  {
   "cell_type": "markdown",
   "metadata": {},
   "source": [
    "Let $f: D \\to \\mathbb{R}$ be a [real valued function](definition.real_valued_function), and assume that $f$"
   ]
  },
  {
   "cell_type": "code",
   "execution_count": null,
   "metadata": {},
   "outputs": [],
   "source": []
  }
 ],
 "metadata": {
  "kernelspec": {
   "display_name": "SageMath 9.3",
   "language": "sage",
   "name": "sagemath"
  }
 },
 "nbformat": 4,
 "nbformat_minor": 4
}
