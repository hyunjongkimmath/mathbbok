{
 "cells": [
  {
   "cell_type": "code",
   "execution_count": null,
   "metadata": {},
   "outputs": [],
   "source": [
    "# default_exp definition.real_numbers"
   ]
  },
  {
   "cell_type": "markdown",
   "metadata": {},
   "source": [
    "# definition.real_numbers"
   ]
  },
  {
   "cell_type": "code",
   "execution_count": null,
   "metadata": {},
   "outputs": [],
   "source": [
    "#hide\n",
    "from mathbook.utility.markdown import *\n",
    "from mathbook.configs import *\n",
    "# uncomment for editing.\n",
    "# DESTINATION = 'notebook'\n",
    "# ORIGIN = 'notebook'"
   ]
  },
  {
   "cell_type": "markdown",
   "metadata": {},
   "source": [
    "## Set"
   ]
  },
  {
   "cell_type": "code",
   "execution_count": null,
   "metadata": {},
   "outputs": [
    {
     "name": "stdout",
     "output_type": "stream",
     "text": [
      "[]\n"
     ]
    },
    {
     "data": {
      "text/markdown": [
       "A **real number** is understood as being a number that can be expressed in decimal notation with decimal points. \n",
       "\n",
       "We adopt the convention that $\\infty$ and $-\\infty$ are **not** real numbers. In other words, real numbers are always finite.\n",
       "\n",
       "$\\mathbb{R}$ denotes the set of real numbers."
      ],
      "text/plain": [
       "<IPython.core.display.Markdown object>"
      ]
     },
     "metadata": {},
     "output_type": "display_data"
    }
   ],
   "source": [
    "#export\n",
    "if __name__ == '__main__':\n",
    "    embed_markdown_file('definition.real_numbers.md',\n",
    "                        origin=ORIGIN, destination=DESTINATION)"
   ]
  }
 ],
 "metadata": {
  "kernelspec": {
   "display_name": "SageMath 9.3",
   "language": "sage",
   "name": "sagemath"
  }
 },
 "nbformat": 4,
 "nbformat_minor": 4
}
