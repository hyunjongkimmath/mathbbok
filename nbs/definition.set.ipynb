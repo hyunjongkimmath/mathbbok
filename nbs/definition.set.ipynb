{
 "cells": [
  {
   "cell_type": "code",
   "execution_count": null,
   "metadata": {},
   "outputs": [],
   "source": [
    "# default_exp definition.set"
   ]
  },
  {
   "cell_type": "markdown",
   "metadata": {},
   "source": [
    "# definition.set\n",
    "> Something aboutl sets"
   ]
  },
  {
   "cell_type": "code",
   "execution_count": null,
   "metadata": {},
   "outputs": [],
   "source": [
    "#hide\n",
    "from mathbook.utility.markdown import *\n",
    "from mathbook.configs import *\n",
    "# uncomment for editing.\n",
    "# DESTINATION = 'notebook'\n",
    "# ORIGIN = 'notebook'"
   ]
  },
  {
   "cell_type": "markdown",
   "metadata": {},
   "source": [
    "## Set"
   ]
  },
  {
   "cell_type": "code",
   "execution_count": null,
   "metadata": {},
   "outputs": [
    {
     "data": {
      "text/markdown": [
       "In mathematics, a **set** is understood as a collection of distinct **elements**. The number of times and the order in which the elements of a set occur **do not** matter.\n",
       "\n",
       "Sets are usually notated with curly braces to indicate what elements the set has. For example, $\\{1,2,3\\}$ is the set which contains the elements $1$, $2$, and $3$ and which contains no other elements. Note that both $\\{1,1,2,3\\}$ and $\\{3,2,1\\}$ are the same set as $\\{1,1,2,3\\}$, even though they are written differently.\n",
       "\n",
       "The following are some basic properties of and notations for sets:\n",
       "\n",
       "1. We write $s \\in S$ if **$s$ is an element of the set $S$** or, equivalently, that **$s$ is in $S$** or **$S$ contains $s$**.\n",
       "2. Two sets are equal (i.e. are the same set) exact when they have the same elements.\n",
       "3. We can take **unions of sets** - the union $S_1 \\cup S_2$ of two sets $S_1$ and $S_2$ is the (unique) set whose elements are exactly those in $S_1$ *or* $S_2$ (or both). More generally, we can take unions of any number of sets (even infinitely many sets!).\n",
       "4. We can take **intersections of sets** - the intersection $S_1 \\cap S_2$ of two sets $S_1$ and $S_2$ is the (unique) set whose elements are exactly those in $S_1$\n",
       "5. We can take the **difference of sets** - the difference $S_1 \\setminus S_2$ of the set $S_1$ by the set $S_2$ is the (unique) set whose elements are those in $S_1$ but not in $S_2$.\n",
       "6. There is the **empty set** $\\emptyset$. It is the unique set that contains no elements whatsoever.\n",
       "7. For an object $a$, there is the **singleton set** $\\{a\\}$ of the element $a$. It is the unique set containing $a$ as a element and which contains no other elements.\n",
       "\n",
       "For an axiomatic treatmeant of sets, see the Wikipedia pages on [Set theory](https://hyunjongkimmath.github.io/mathbook/https://en.wikipedia.org/wiki/Set_theory) and [Zermelo-Fraenkel set theory](https://en.wikipedia.org/wiki/Zermelo%E2%80%93Fraenkel_set_theory.html#1._Axiom_of_extensionality). Unless you have a good reason to study axiomatic set theory (e.g. you want to study set theory, logic, or category theory to great depth), I strongly recommend that you **do not** look into it."
      ],
      "text/plain": [
       "<IPython.core.display.Markdown object>"
      ]
     },
     "metadata": {},
     "output_type": "display_data"
    }
   ],
   "source": [
    "#export\n",
    "if __name__ == '__main__':\n",
    "    embed_markdown_file('definition.set.md',\n",
    "                        origin=ORIGIN, destination=DESTINATION)"
   ]
  },
  {
   "cell_type": "code",
   "execution_count": null,
   "metadata": {},
   "outputs": [],
   "source": []
  }
 ],
 "metadata": {
  "kernelspec": {
   "display_name": "SageMath 9.3",
   "language": "sage",
   "name": "sagemath"
  }
 },
 "nbformat": 4,
 "nbformat_minor": 4
}
