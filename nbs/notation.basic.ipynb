{
 "cells": [
  {
   "cell_type": "code",
   "execution_count": null,
   "metadata": {},
   "outputs": [],
   "source": [
    "# default_exp notation.basic"
   ]
  },
  {
   "cell_type": "markdown",
   "metadata": {},
   "source": [
    "# notation.basic\n",
    "> Something aboutl real valued functions"
   ]
  },
  {
   "cell_type": "code",
   "execution_count": null,
   "metadata": {},
   "outputs": [],
   "source": [
    "#hide\n",
    "from mathbook.utility.markdown import *\n",
    "from mathbook.configs import *\n",
    "# uncomment for editing.\n",
    "# DESTINATION = 'notebook'\n",
    "# ORIGIN = 'notebook'"
   ]
  },
  {
   "cell_type": "markdown",
   "metadata": {},
   "source": [
    "## A-E"
   ]
  },
  {
   "cell_type": "markdown",
   "metadata": {},
   "source": [
    "## P-T"
   ]
  },
  {
   "cell_type": "markdown",
   "metadata": {},
   "source": [
    "### $\\mathbb{R}$"
   ]
  },
  {
   "cell_type": "code",
   "execution_count": null,
   "metadata": {},
   "outputs": [
    {
     "data": {
      "text/markdown": [
       "- $\\mathbb{R}$ denotes the set of [real numbers](https://hyunjongkimmath.github.io/mathbook/definition.real_numbers.html)"
      ],
      "text/plain": [
       "<IPython.core.display.Markdown object>"
      ]
     },
     "metadata": {},
     "output_type": "display_data"
    }
   ],
   "source": [
    "#export\n",
    "if __name__ == '__main__': \n",
    "    embed_markdown_file('notation.real_numbers.md',\n",
    "                        destination=DESTINATION, origin=ORIGIN)"
   ]
  },
  {
   "cell_type": "markdown",
   "metadata": {},
   "source": [
    "## Symbols"
   ]
  },
  {
   "cell_type": "markdown",
   "metadata": {},
   "source": [
    "### $\\in$"
   ]
  },
  {
   "cell_type": "code",
   "execution_count": null,
   "metadata": {},
   "outputs": [
    {
     "data": {
      "text/markdown": [
       "- $\\in$ denotes [set membership](https://hyunjongkimmath.github.io/mathbook/definition.set.html#Set) - we write $x \\in X$ if $x$ is an element of the set $X$."
      ],
      "text/plain": [
       "<IPython.core.display.Markdown object>"
      ]
     },
     "metadata": {},
     "output_type": "display_data"
    }
   ],
   "source": [
    "#export\n",
    "if __name__ == '__main__': \n",
    "    embed_markdown_file('notation.set_membership.md',\n",
    "                        destination=DESTINATION, origin=ORIGIN)"
   ]
  },
  {
   "cell_type": "markdown",
   "metadata": {},
   "source": [
    "### $\\setminus$"
   ]
  },
  {
   "cell_type": "code",
   "execution_count": null,
   "metadata": {},
   "outputs": [
    {
     "data": {
      "text/markdown": [
       "- $\\setminus$ denotes [set difference](https://hyunjongkimmath.github.io/mathbook/definition.set.html)."
      ],
      "text/plain": [
       "<IPython.core.display.Markdown object>"
      ]
     },
     "metadata": {},
     "output_type": "display_data"
    }
   ],
   "source": [
    "#export\n",
    "if __name__ == '__main__': \n",
    "    embed_markdown_file('notation.set_difference.md',\n",
    "                        destination=DESTINATION, origin=ORIGIN)"
   ]
  },
  {
   "cell_type": "markdown",
   "metadata": {},
   "source": [
    "### $\\{a\\}$"
   ]
  },
  {
   "cell_type": "code",
   "execution_count": null,
   "metadata": {},
   "outputs": [
    {
     "data": {
      "text/markdown": [
       "- $\\{a\\}$ denotes the set with the unique [element](https://hyunjongkimmath.github.io/mathbook/definition.set.html) $a$."
      ],
      "text/plain": [
       "<IPython.core.display.Markdown object>"
      ]
     },
     "metadata": {},
     "output_type": "display_data"
    }
   ],
   "source": [
    "#export\n",
    "if __name__ == '__main__': \n",
    "    embed_markdown_file('notation.singleton_set.md',\n",
    "                        destination=DESTINATION, origin=ORIGIN)"
   ]
  }
 ],
 "metadata": {
  "kernelspec": {
   "display_name": "SageMath 9.3",
   "language": "sage",
   "name": "sagemath"
  }
 },
 "nbformat": 4,
 "nbformat_minor": 4
}
