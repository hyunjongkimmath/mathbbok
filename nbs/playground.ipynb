{
 "cells": [
  {
   "cell_type": "markdown",
   "metadata": {},
   "source": [
    "# playground\n",
    "> Just a place for me to play around with code."
   ]
  },
  {
   "cell_type": "code",
   "execution_count": null,
   "metadata": {},
   "outputs": [],
   "source": [
    "from mathbook.utility.markdown import *"
   ]
  },
  {
   "cell_type": "code",
   "execution_count": null,
   "metadata": {},
   "outputs": [
    {
     "data": {
      "text/markdown": [
       "This is a footnote[^1]\n",
       "\n",
       "[^1]:https://english.stackexchange.com/questions/194983/what-is-the-opposite-of-destination/194989"
      ],
      "text/plain": [
       "<IPython.core.display.Markdown object>"
      ]
     },
     "metadata": {},
     "output_type": "display_data"
    }
   ],
   "source": [
    "embed_markdown_file('sample_footnote_file.md')"
   ]
  }
 ],
 "metadata": {
  "kernelspec": {
   "display_name": "SageMath 9.3",
   "language": "sage",
   "name": "sagemath"
  }
 },
 "nbformat": 4,
 "nbformat_minor": 4
}
