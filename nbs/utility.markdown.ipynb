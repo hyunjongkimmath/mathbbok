{
 "cells": [
  {
   "cell_type": "code",
   "execution_count": null,
   "metadata": {},
   "outputs": [],
   "source": [
    "# default_exp utility.markdown"
   ]
  },
  {
   "cell_type": "markdown",
   "metadata": {},
   "source": [
    "# utility.markdown\n",
    "\n",
    "> Markdown processing and displaying"
   ]
  },
  {
   "cell_type": "code",
   "execution_count": null,
   "metadata": {},
   "outputs": [],
   "source": [
    "#export\n",
    "from IPython.display import display, Markdown\n",
    "import os.path\n",
    "from pathlib import Path\n",
    "import urllib.parse"
   ]
  },
  {
   "cell_type": "code",
   "execution_count": null,
   "metadata": {},
   "outputs": [],
   "source": [
    "#export\n",
    "def embed_markdown_file(file_path, display_file_link=False):\n",
    "    \"\"\"Embed markdown file content into ipynb.\n",
    "    \"\"\"\n",
    "    \n",
    "    with open(file_path, 'r') as markdown_file:\n",
    "        text = markdown_file.read()\n",
    "        display(Markdown(text))\n",
    "        markdown_file.close()"
   ]
  },
  {
   "cell_type": "code",
   "execution_count": null,
   "metadata": {},
   "outputs": [
    {
     "data": {
      "text/markdown": [
       "Let $f: D \\to \\mathbb{R}$ be a real valued function, and assume that $f$ is defined near $a$.\n",
       "\n",
       "We write $$\\lim\\limits_{x \\to a} f(x) = c$$ "
      ],
      "text/plain": [
       "<IPython.core.display.Markdown object>"
      ]
     },
     "metadata": {},
     "output_type": "display_data"
    }
   ],
   "source": [
    "embed_markdown_file('limit_of_a_function_at_a_finite_input.md')"
   ]
  },
  {
   "cell_type": "markdown",
   "metadata": {},
   "source": [
    "**Parameters**\n",
    "- ``file_path`` - Path-like\n",
    "- ``display_file_link`` - bool\n",
    "    - If True, then displays a link to an edit mode ipynb for \n",
    "    the markdown file at ``file_path``. This should only be \n",
    "    set to True inside an ipynb environment such as jupyter. "
   ]
  },
  {
   "cell_type": "code",
   "execution_count": null,
   "metadata": {},
   "outputs": [],
   "source": [
    "#export\n",
    "def find_links_in_markdown_text(file_path):\n",
    "    \"\"\"Return ranges in the markdown text string where links occur.\n",
    "    \"\"\""
   ]
  }
 ],
 "metadata": {
  "kernelspec": {
   "display_name": "Python 3",
   "language": "python",
   "name": "python3"
  }
 },
 "nbformat": 4,
 "nbformat_minor": 2
}
