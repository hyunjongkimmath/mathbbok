{
 "cells": [
  {
   "cell_type": "code",
   "execution_count": null,
   "metadata": {},
   "outputs": [],
   "source": [
    "# default_exp utility.markdown"
   ]
  },
  {
   "cell_type": "markdown",
   "metadata": {},
   "source": [
    "# utility.markdown\n",
    "\n",
    "> Markdown processing and displaying"
   ]
  },
  {
   "cell_type": "markdown",
   "metadata": {},
   "source": [
    "## Embed markdown file"
   ]
  },
  {
   "cell_type": "code",
   "execution_count": null,
   "metadata": {},
   "outputs": [],
   "source": [
    "#export\n",
    "from IPython.display import display, Markdown\n",
    "from mathbook.utility.string import replace_string_by_indices\n",
    "import os.path\n",
    "from pathlib import Path\n",
    "import re\n",
    "import urllib.parse"
   ]
  },
  {
   "cell_type": "markdown",
   "metadata": {},
   "source": [
    "### Links\n",
    "\n",
    "I often embed markdown files here via ``display(Markdown(text))`` (see ``embed_markdown_file``). This is useful when I want to state the same thing multiple times (e.g. definitions) because I can write the statement in one location and it will automatically be updated whenever I make changes to the statement (e.g. fixing errata).\n",
    "\n",
    "One obstruction to this is that links in the markdown files cannot be expected to link to where I want them to - if I were to make links to (local) notebook files during editing, then the links will not link to webpages when I upload the website.\n",
    "\n",
    "The [``embed_markdown_file``](#embed_markdown_file) method circumvents this obstruction - it allows me to choose whether the links will lead to (local) notebooks or the website. I will format links in the markdown files without specifying the precise locations, e.g. ``[limit](limit_of_a_function_at_a_point)`` will show the text ``limit`` and link to either a (local) notebook ``limit_of_a_function_at_a_point.ipynb`` or a webpage ``limit_of_a_function_at_a_point.html`` in the website.\n",
    "\n",
    ">**Note** The notebook files and the corresponding html files that are generated during ``nbdev_build_docs`` need to have the same name, e.g. ``function.ipynb`` needs to generate ``function.html``."
   ]
  },
  {
   "cell_type": "code",
   "execution_count": null,
   "metadata": {},
   "outputs": [],
   "source": [
    "#export\n",
    "def find_links_in_markdown_text(text):\n",
    "    \"\"\"Returns ranges in the markdown text string where links occur.\n",
    "    \"\"\"\n",
    "    matches = re.finditer('\\\\[.*\\\\]\\\\(.*\\\\)', text)\n",
    "    return [match.span() for match in matches]"
   ]
  },
  {
   "cell_type": "markdown",
   "metadata": {},
   "source": [
    "**Parameters**\n",
    "- ``text`` - str\n",
    "\n",
    "**Returns**\n",
    "- list of tuples. Each tuple is of the form ``(a,b)`` where ``text[a:b]`` is a markdown link.\n",
    "\n",
    "**Examples**"
   ]
  },
  {
   "cell_type": "code",
   "execution_count": null,
   "metadata": {},
   "outputs": [],
   "source": [
    "sample_text = '123hi [thing](link) blah'\n",
    "sample_range = find_links_in_markdown_text(sample_text)\n",
    "assert len(sample_range) == 1\n",
    "assert sample_text[sample_range[0][0]:sample_range[0][1]] == '[thing](link)'"
   ]
  },
  {
   "cell_type": "code",
   "execution_count": null,
   "metadata": {},
   "outputs": [],
   "source": [
    "#export\n",
    "#TODO make it so that an anchor of the form '#anchor' is anchored to the current document.\n",
    "def link_with_anchor(link_name, location='website'):\n",
    "    \"\"\"Formats link so that the file extension comes before\n",
    "    the pound sign of the anchor.\n",
    "    \"\"\"\n",
    "    assert link_name and location in ['website', 'notebook']\n",
    "    link_parts = link_name.split('#')\n",
    "    assert len(link_parts) <= 2\n",
    "    anchor = '' if len(link_parts) == 1 else f'#{link_parts[1]}'\n",
    "    extension = '.html' if location == 'website' else '.ipynb'\n",
    "    return f'{link_parts[0]}{extension}{anchor}' "
   ]
  },
  {
   "cell_type": "markdown",
   "metadata": {},
   "source": [
    "**Parameters**\n",
    "- link_name - str\n",
    "    - Should not be empty. Should be of the form `'link'` or `'link#anchor'`, i.e. should not have surrounding parentheses. Does not have a file extension, e.g. `'.html'` or `'.ipynb'`.\n",
    "- location - `'website'` or `'notebook'`.\n",
    "\n",
    "**Returns**\n",
    "- The same as ``link_name``, except with the appropriate file extension added in before the anchor, if any and with the parentheses removed.\n",
    "\n",
    "**Examples**"
   ]
  },
  {
   "cell_type": "code",
   "execution_count": null,
   "metadata": {},
   "outputs": [],
   "source": [
    "sample_link_name = 're#re.split'\n",
    "sample_output = link_with_anchor(sample_link_name, location ='website')\n",
    "assert sample_output == 're.html#re.split'\n",
    "sample_output = link_with_anchor(sample_link_name, location ='notebook')\n",
    "assert sample_output == 're.ipynb#re.split'\n",
    "\n",
    "sample_link_name = 'hi#'\n",
    "sample_output = link_with_anchor(sample_link_name, location ='website')\n",
    "assert sample_output == 'hi.html#'"
   ]
  },
  {
   "cell_type": "code",
   "execution_count": null,
   "metadata": {},
   "outputs": [],
   "source": [
    "#export\n",
    "WEBSITE_URL = 'https://hyunjongkimmath.github.io/mathbook/'\n",
    "def get_formatted_markdown_link(unformatted_link, location='website'):\n",
    "    \"\"\"Formats markdown styled link string.\n",
    "    \"\"\"\n",
    "    assert location in ['website', 'notebook']\n",
    "    assert re.fullmatch(pattern='\\\\[.*\\\\]\\\\(.*\\\\)', string=unformatted_link)\n",
    "    matches = re.finditer('\\\\(.*\\\\)', unformatted_link)\n",
    "    start, end = next(matches).span()\n",
    "    link_name = unformatted_link[start+1:end-1]\n",
    "    relative_link = link_with_anchor(link_name, location=location)\n",
    "    if location == 'website':\n",
    "        link = f'({WEBSITE_URL}{relative_link})'\n",
    "    else:\n",
    "        link = f'({relative_link})'\n",
    "    return replace_string_by_indices(unformatted_link, (start, end),\n",
    "                                     replace_with = link)"
   ]
  },
  {
   "cell_type": "markdown",
   "metadata": {},
   "source": [
    "**Parameters**\n",
    "- ``unformatted_link`` - str\n",
    "    - Of the form ``[text](link)``.\n",
    "- ``location`` - ``'website'`` or ``'notebook'``.\n",
    "\n",
    "**Returns**\n",
    "- str, of the form ``[text](link.html)`` or ``[text](link.ipynb)`` depending\n",
    "on ``location``.\n",
    "\n",
    "**Examples**"
   ]
  },
  {
   "cell_type": "code",
   "execution_count": null,
   "metadata": {},
   "outputs": [],
   "source": [
    "sample_link = '[function](function)'\n",
    "sample_formatted_link = get_formatted_markdown_link(sample_link, location='website')\n",
    "assert sample_formatted_link == '[function](https://hyunjongkimmath.github.io/mathbook/function.html)'\n",
    "sample_formatted_link = get_formatted_markdown_link(sample_link, location='notebook')\n",
    "assert sample_formatted_link == '[function](function.ipynb)'\n",
    "\n",
    "sample_link = '[limit](limit#limit_of_a_function_at_a_point)'\n",
    "sample_formatted_link = get_formatted_markdown_link(sample_link, location='website')\n",
    "assert sample_formatted_link == '[limit](https://hyunjongkimmath.github.io/mathbook/limit.html#limit_of_a_function_at_a_point)'\n",
    "sample_formatted_link = get_formatted_markdown_link(sample_link, location='notebook')\n",
    "assert sample_formatted_link == '[limit](limit.ipynb#limit_of_a_function_at_a_point)'"
   ]
  },
  {
   "cell_type": "code",
   "execution_count": null,
   "metadata": {},
   "outputs": [],
   "source": [
    "#export\n",
    "# TODO make it so that if a link is already specified with a format, then the format\n",
    "# is preserved.\n",
    "def replace_all_links_with_formatted_links(text, location='website'):\n",
    "    \"\"\"Returns a modification of ``text`` with all links formatted.\"\"\"\n",
    "    assert location in ['website', 'notebook']\n",
    "    link_ranges = find_links_in_markdown_text(text)\n",
    "    formatted_links = [get_formatted_markdown_link(text[start:end], location=location)\n",
    "                          for start, end in link_ranges]\n",
    "    return replace_string_by_indices(text, link_ranges, formatted_links)\n",
    "    "
   ]
  },
  {
   "cell_type": "markdown",
   "metadata": {},
   "source": [
    "**Parameters**\n",
    "- ``text`` - str\n",
    "- ``location`` - `'website'` or `'notebook'`."
   ]
  },
  {
   "cell_type": "markdown",
   "metadata": {},
   "source": [
    "### Footnotes\n",
    "\n",
    "I usually use footnotes in markdowns to make citations or to indicate notations. An example of the latter kind of footnotes is \"$\\operatorname{Pic}(X)$ denotes the Picard group of the variety $X$\", where the term \"Picard group\" is linked to a page containing a definition of the term.\n",
    "\n",
    "Although this can be time consuming for the writer to put together, the reader does not have to spend a great effort to figure out where the notation is introduced. This is particularly nice especially there is much notation exclusive to the writer's field or niche.\n",
    "\n",
    "The writer also can quickly remind themselves of the notation whenever necessary. This is particularly useful when the writer is learning something new for the first time.\n",
    "\n",
    "In markdown for jupyter notebook, however, the footnotes seem to be links by default. This thus has the same problem as that in [the section above](#Links). In other words, I also have to make sure that footnotes link to the correct location."
   ]
  },
  {
   "cell_type": "code",
   "execution_count": null,
   "metadata": {},
   "outputs": [],
   "source": [
    "#export\n",
    "def find_footnotes_in_markdown_text(text):\n",
    "    \"\"\"Returns ranges in the markdown text string where footnotes occur.\n",
    "    \"\"\"\n",
    "    matches = re.finditer('\\\\[\\\\^.*\\\\]\\\\:.*', text)\n",
    "    return [match.span() for match in matches]"
   ]
  },
  {
   "cell_type": "markdown",
   "metadata": {},
   "source": [
    "**Parameters**\n",
    "- ``text`` - str\n",
    "\n",
    "**Returns**\n",
    "- list of tuples. Each tuple is of the form ``(a,b)`` where ``text[a:b]`` is a markdown footnote.\n",
    "\n",
    "**Examples**"
   ]
  },
  {
   "cell_type": "code",
   "execution_count": null,
   "metadata": {},
   "outputs": [],
   "source": [
    "sample_text = 'some stuff[^1][^2]\\n[^1]:link#do\\n[^2]:other_link'\n",
    "sample_ranges = find_footnotes_in_markdown_text(sample_text)\n",
    "assert len(sample_ranges) == 2\n",
    "a, b = sample_ranges[0]\n",
    "c, d = sample_ranges[1]\n",
    "assert sample_text[a:b] == \"[^1]:link#do\"\n",
    "assert sample_text[c:d] == \"[^2]:other_link\""
   ]
  },
  {
   "cell_type": "code",
   "execution_count": null,
   "metadata": {},
   "outputs": [],
   "source": [
    "#export\n",
    "def replace_all_footnotes_with_formatted_footnotes(text, location='website'):\n",
    "    \"\"\"Returns a modification of ``text`` with all footnote links formatted.\"\"\"\n",
    "    assert location in ['website', 'notebook']\n",
    "    footnote_ranges = find_footnotes_in_markdown_text(text)\n",
    "    formatted_footnotes = [link_with_anchor(text[start:end], location=location)\n",
    "                              for start, end in footnote_ranges]\n",
    "    return replace_string_by_indices(text, footnote_ranges, formatted_footnotes)"
   ]
  },
  {
   "cell_type": "markdown",
   "metadata": {},
   "source": [
    "**Parameters**\n",
    "- ``text`` - str\n",
    "- ``location`` - `'website'` or `'notebook'`.\n",
    "\n",
    "**Examples**"
   ]
  },
  {
   "cell_type": "code",
   "execution_count": null,
   "metadata": {},
   "outputs": [
    {
     "data": {
      "text/plain": [
       "'some stuff[^1][^2]\\n[^1]:link.html#do\\n[^2]:other_link.html'"
      ]
     },
     "execution_count": null,
     "metadata": {},
     "output_type": "execute_result"
    }
   ],
   "source": [
    "sample_text = 'some stuff[^1][^2]\\n[^1]:link#do\\n[^2]:other_link'\n",
    "replace_all_footnotes_with_formatted_footnotes(sample_text, location='website')"
   ]
  },
  {
   "cell_type": "markdown",
   "metadata": {},
   "source": [
    "### Final method"
   ]
  },
  {
   "cell_type": "code",
   "execution_count": null,
   "metadata": {},
   "outputs": [],
   "source": [
    "#export\n",
    "def embed_markdown_file(file_path, display_file_link=False, location='website'):\n",
    "    \"\"\"Embed markdown file content into ipynb.\n",
    "    \"\"\"\n",
    "    with open(file_path, 'r') as markdown_file:\n",
    "        text = markdown_file.read()\n",
    "        text = replace_all_links_with_formatted_links(text, location=location)\n",
    "        text = replace_all_footnotes_with_formatted_footnotes(text, location=location)\n",
    "        display(Markdown(text))\n",
    "        markdown_file.close()"
   ]
  },
  {
   "cell_type": "markdown",
   "metadata": {},
   "source": [
    "**Parameters**\n",
    "- ``file_path`` - Path-like\n",
    "- ``display_file_link`` - bool\n",
    "    - If True, then displays a link to an edit mode ipynb for \n",
    "    the markdown file at ``file_path``. This should only be \n",
    "    set to True inside an ipynb environment such as jupyter.\n",
    "\n",
    "**Examples**"
   ]
  },
  {
   "cell_type": "code",
   "execution_count": null,
   "metadata": {},
   "outputs": [
    {
     "data": {
      "text/markdown": [
       "Let $f: D \\to \\mathbb{R}$ be a [real valued function](definition.real_valued_function.ipynb#Real-valued-function), and assume that $f$ is defined near $a$.\n",
       "\n",
       "We write $$\\lim\\limits_{x \\to a} f(x) = c$$ if for every $\\epsilon > 0$ there is a $\\delta > 0$ such that whenever $|x-a| < \\delta$ for $x \\in D$[^1] \n",
       "\n",
       "[^1]:notation.basic.ipynb#$\\in$"
      ],
      "text/plain": [
       "<IPython.core.display.Markdown object>"
      ]
     },
     "metadata": {},
     "output_type": "display_data"
    }
   ],
   "source": [
    "embed_markdown_file('definition.limit_of_a_function_at_a_finite_input.md', location='website')"
   ]
  },
  {
   "cell_type": "markdown",
   "metadata": {},
   "source": []
  }
 ],
 "metadata": {
  "kernelspec": {
   "display_name": "Python 3",
   "language": "python",
   "name": "python3"
  }
 },
 "nbformat": 4,
 "nbformat_minor": 2
}
