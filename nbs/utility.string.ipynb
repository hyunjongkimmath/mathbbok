{
 "cells": [
  {
   "cell_type": "code",
   "execution_count": null,
   "metadata": {},
   "outputs": [],
   "source": [
    "# default_exp utility.string"
   ]
  },
  {
   "cell_type": "markdown",
   "metadata": {},
   "source": [
    "# utility.string\n",
    "\n",
    "> String helper methods"
   ]
  },
  {
   "cell_type": "code",
   "execution_count": null,
   "metadata": {},
   "outputs": [],
   "source": [
    "#export\n",
    "def replace_string_by_indices(string, replace_ranges, replace_with):\n",
    "    \"Replace parts of ``string`` at the specified locations\"\n",
    "    if isinstance(replace_with, str):\n",
    "        replace_ranges = [replace_ranges]\n",
    "        replace_with = [replace_with]\n",
    "    assert len(replace_ranges) == len(replace_with) and len(replace_ranges) != 0\n",
    "    str_parts = []\n",
    "    for i in range(len(replace_ranges)):\n",
    "        replace_string = replace_with[i]\n",
    "        if i > 0:\n",
    "            if len(replace_ranges[i-1]) == 1:\n",
    "                unreplaced_start_index = len(string)\n",
    "            else:\n",
    "                unreplaced_start_index = replace_ranges[i-1][1]\n",
    "        else:\n",
    "            unreplaced_start_index = 0\n",
    "        #unreplaced_start_index = replace_ranges[i-1][1] if i > 0 else 0\n",
    "        unreplaced_end_index = replace_ranges[i][0]\n",
    "        str_parts.append(string[unreplaced_start_index:unreplaced_end_index])\n",
    "        str_parts.append(replace_string)\n",
    "        \n",
    "    # Add the last (unreplaced) part to str_parts.\n",
    "    if len(replace_ranges[-1]) == 1:\n",
    "        unreplaced_start_index = len(string)\n",
    "    else:\n",
    "        unreplaced_start_index = replace_ranges[-1][1]\n",
    "    str_parts.append(string[unreplaced_start_index:])\n",
    "    return \"\".join(str_parts)"
   ]
  },
  {
   "cell_type": "markdown",
   "metadata": {},
   "source": [
    "**Parameters**\n",
    "- ``string`` - str\n",
    "- ``replace_ranges`` - Either list of (list or tuple) of int's or a single (list or tuple) of int's.\n",
    "    - Each list or tuple is of one or two int's. In particular, ``[a,b]`` or ``(a,b)``\n",
    "    Means that ``string[a:b]`` is to be replaced. ``[a]`` means that ``string[a:]`` \n",
    "    is to be replaced.\n",
    "    - The ranges should not overlap and should be arranged in chronological order.\n",
    "- ``replace_with`` - Either list of str's or a single str\n",
    "    - The str's which will replace the parts represented by ``replace_ranges``."
   ]
  },
  {
   "cell_type": "code",
   "execution_count": null,
   "metadata": {},
   "outputs": [],
   "source": [
    "# With a list of ranges / str's to replace with\n",
    "example = replace_string_by_indices('ash ketchup', replace_ranges=[[4]], replace_with=[\"ketchum\"])\n",
    "assert 'ash ketchum' == example\n",
    "example = replace_string_by_indices('a tupo', replace_ranges=[[3,4]], replace_with = ['y'])\n",
    "assert 'a typo' == example\n",
    "example = replace_string_by_indices('hello world!', replace_ranges = [[0,5], [6,12]], replace_with=['goodbye', 'universe!'])\n",
    "assert 'goodbye universe!' == example, example\n",
    "\n",
    "# With a single range / str's to replace with\n",
    "assert 'ash ketchum' == replace_string_by_indices('ash ketchup', replace_ranges=[4], replace_with=\"ketchum\")\n",
    "assert 'a typo' == replace_string_by_indices('a tupo', replace_ranges=[3,4], replace_with = 'y')"
   ]
  },
  {
   "cell_type": "code",
   "execution_count": null,
   "metadata": {},
   "outputs": [],
   "source": []
  }
 ],
 "metadata": {
  "kernelspec": {
   "display_name": "SageMath 9.3",
   "language": "sage",
   "name": "sagemath"
  }
 },
 "nbformat": 4,
 "nbformat_minor": 4
}
